{
 "cells": [
  {
   "cell_type": "code",
   "execution_count": 1,
   "metadata": {},
   "outputs": [],
   "source": [
    "import pandas as pd\n",
    "import numpy as np\n",
    "import os\n",
    "import random\n",
    "import openpyxl\n",
    "import matplotlib.pyplot as plt\n",
    "%matplotlib inline\n",
    "import seaborn as sns\n",
    "from sklearn.decomposition import PCA\n",
    "from sklearn.preprocessing import RobustScaler, MaxAbsScaler\n",
    "from sklearn.neighbors import LocalOutlierFactor\n",
    "from sklearn.cluster import KMeans\n",
    "# plt.rcParams[\"figure.figsize\"] = plt.rcParamsDefault[\"figure.figsize\"]\n",
    "# plt.figure(figsize=(12, 12))"
   ]
  },
  {
   "cell_type": "code",
   "execution_count": 2,
   "metadata": {},
   "outputs": [],
   "source": [
    "data_kpis = pd.read_csv(\"data/kpis.csv\")\n",
    "\n",
    "oscwd = os.getcwd()\n",
    "\n",
    "# Load dataframe with BALANCE SHEET data (assets, liabilities and equity)\n",
    "df_gh = pd.read_csv(os.path.join(oscwd, \"data/GH.txt\"),\n",
    "                            dtype = {\n",
    "                                    'CODIGO': str, 'ENTIDAD': str, \n",
    "                                    'Grupo': int\n",
    "                                    }\n",
    "                                    # parse_dates=['Periodo'],\n",
    "                            )\n",
    "gh_8 = df_gh[\"CODIGO\"][df_gh[\"Grupo\"]==8]"
   ]
  },
  {
   "cell_type": "code",
   "execution_count": 3,
   "metadata": {},
   "outputs": [],
   "source": [
    "# DELETE GH 8\n",
    "data_kpis = data_kpis[~data_kpis[\"ent\"].isin(gh_8)]"
   ]
  },
  {
   "cell_type": "code",
   "execution_count": 4,
   "metadata": {},
   "outputs": [],
   "source": [
    "start = 2015\n",
    "end = 2015\n",
    "data = data_kpis[(data_kpis[\"per\"]>=start)&(data_kpis[\"per\"]<=end)]"
   ]
  },
  {
   "cell_type": "code",
   "execution_count": 5,
   "metadata": {},
   "outputs": [],
   "source": [
    "data = data.drop(columns=\"per\")\n",
    "data = data.replace(0, np.nan).groupby([\"ent\", \"ind\"]).mean(\"val\").reset_index()"
   ]
  },
  {
   "cell_type": "code",
   "execution_count": 6,
   "metadata": {},
   "outputs": [],
   "source": [
    "data_pivot = data.pivot(index=\"ent\", columns=\"ind\", values=\"val\").fillna(0).reset_index()\n",
    "# data_pivot_describe = data_pivot.describe()\n",
    "\n",
    "def scale_data(df, scaler):\n",
    "    df[df.columns[1:]] = scaler.fit_transform(df[df.columns[1:]])\n",
    "\n",
    "    return df\n",
    "\n",
    "scaler = {\n",
    "          \"maxabs_scaler\": MaxAbsScaler(),\n",
    "          \"robust_scaler\": RobustScaler()\n",
    "        }\n",
    "\n",
    "df_scaled = scale_data(data_pivot, scaler[\"maxabs_scaler\"])\n",
    "data_arr = df_scaled[df_scaled.columns[1:]].to_numpy()"
   ]
  },
  {
   "cell_type": "code",
   "execution_count": null,
   "metadata": {},
   "outputs": [],
   "source": []
  },
  {
   "cell_type": "markdown",
   "metadata": {},
   "source": [
    "DETERMINING THE NUMBER OF CLUSTERS IN A DATA SET"
   ]
  },
  {
   "cell_type": "markdown",
   "metadata": {},
   "source": [
    "ELBOW METHOD"
   ]
  },
  {
   "cell_type": "code",
   "execution_count": null,
   "metadata": {},
   "outputs": [],
   "source": []
  },
  {
   "cell_type": "code",
   "execution_count": null,
   "metadata": {},
   "outputs": [],
   "source": [
    "from sklearn.metrics import silhouette_samples, silhouette_score\n",
    "silhouette_avg = silhouette_score(data_arr, y_k_med)\n",
    "print(silhouette_avg)"
   ]
  },
  {
   "cell_type": "code",
   "execution_count": null,
   "metadata": {},
   "outputs": [],
   "source": [
    "sample_silhouette_values = silhouette_samples(data_pca, y_k_med)\n",
    "for i in range(3):\n",
    "    ith_cluster_silhouette_values = sample_silhouette_values[y_k_med == i]\n",
    "    print(np.mean(ith_cluster_silhouette_values))"
   ]
  }
 ],
 "metadata": {
  "kernelspec": {
   "display_name": "Python 3.10.5 ('cbbm-RQGQLPr7-py3.10')",
   "language": "python",
   "name": "python3"
  },
  "language_info": {
   "codemirror_mode": {
    "name": "ipython",
    "version": 3
   },
   "file_extension": ".py",
   "mimetype": "text/x-python",
   "name": "python",
   "nbconvert_exporter": "python",
   "pygments_lexer": "ipython3",
   "version": "3.10.5"
  },
  "orig_nbformat": 4,
  "vscode": {
   "interpreter": {
    "hash": "0bd4a477d0876910250915e3e9f7d6b6cb97ff716c94d5f9b489478001bf4dca"
   }
  }
 },
 "nbformat": 4,
 "nbformat_minor": 2
}
