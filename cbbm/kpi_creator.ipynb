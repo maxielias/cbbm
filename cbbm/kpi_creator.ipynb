{
 "cells": [
  {
   "cell_type": "markdown",
   "metadata": {},
   "source": [
    "FIRST STEP: getting data from balance sheets"
   ]
  },
  {
   "cell_type": "code",
   "execution_count": 1,
   "metadata": {},
   "outputs": [],
   "source": [
    "import pandas as pd\n",
    "import numpy as np\n",
    "import os\n",
    "import json\n",
    "\n",
    "oscwd = os.getcwd()\n",
    "\n",
    "# Load dataframe with BALANCE SHEET data (assets, liabilities and equity)\n",
    "df_evoldatos = pd.read_csv(os.path.join(oscwd, \"data/dbo_Men_EvolDatos.txt\"),\n",
    "                            dtype = {\n",
    "                                    'Entidad': str, 'Periodo': str, \n",
    "                                    'Cuenta': str, 'Saldo': float\n",
    "                                    }\n",
    "                                    # parse_dates=['Periodo'],\n",
    "                            )\n",
    "\n",
    "# Load dataframe with INCOME STATEMENT data\n",
    "df_evolresul = pd.read_csv(os.path.join(oscwd, \"data/dbo_Men_EvolResul.txt\"),\n",
    "                            dtype = {\n",
    "                                    'Entidad': str, 'Periodo': str, \n",
    "                                    'Cuenta': str, 'Saldo': float\n",
    "                                    }\n",
    "                                    # parse_dates=['Periodo'],\n",
    "                            )\n",
    "\n",
    "# Load dataframe with SPECIAL data needed for personal loans\n",
    "df_evolintdocpers = pd.read_csv(os.path.join(oscwd, \"data/dbo_Men_IntDocPers.txt\"),\n",
    "                            dtype = {\n",
    "                                    'Codent': str, 'FEC_INF': str, \n",
    "                                    'PARTIDA': str, 'SumaDeIMPORTE': float\n",
    "                                    }\n",
    "                                    # parse_dates=['Periodo'],\n",
    "                            )\n",
    "\n",
    "# Load dataframe with average weighted value of loan segments\n",
    "df_avg_loan_seg_weighted_value = pd.read_csv(os.path.join(oscwd, \"data/df_loan_seg_avg_wv.csv\"),\n",
    "                            dtype = {\n",
    "                                    'bank': str, 'per': str, \n",
    "                                    'acc': str, 'weighted_value': float\n",
    "                                    }\n",
    "                                    # parse_dates=['Periodo'],\n",
    "                            )\n",
    "\n",
    "# Renaming columns\n",
    "new_columns = [\"bank\", \"date\", \"acc\", \"total\"]\n",
    "df_evoldatos.columns = new_columns\n",
    "df_evolresul.columns = new_columns\n",
    "df_evolintdocpers.columns = new_columns\n",
    "df_avg_loan_seg_weighted_value.columns = new_columns\n",
    "\n",
    "# Yearly column for later aggregation\n",
    "df_evoldatos[\"per\"] = [d[0:4] for d in df_evoldatos[\"date\"]]\n",
    "df_evolresul[\"per\"] = [d[0:4] for d in df_evolresul[\"date\"]]\n",
    "df_evolintdocpers[\"per\"] = [d[0:4] for d in df_evolintdocpers[\"date\"]]\n",
    "df_avg_loan_seg_weighted_value[\"per\"] = [d[0:4] for d in df_avg_loan_seg_weighted_value[\"date\"]]"
   ]
  },
  {
   "cell_type": "code",
   "execution_count": 2,
   "metadata": {},
   "outputs": [],
   "source": [
    "df_asset_total = df_evoldatos.loc[df_evoldatos.acc==\"10000000000\"]\n",
    "df_asset_total = df_asset_total.groupby([\"date\", \"acc\",\"per\"]).sum(\"total\").reset_index()\n",
    "df_asset_total = df_asset_total.groupby([\"acc\", \"per\"]).mean(\"total\").reset_index()\n",
    "df_asset_total[\"bank\"] = \"11111\"\n",
    "df_asset_total[\"acc\"] = \"10000000000_\"+str(df_asset_total[\"bank\"][0])\n",
    "df_asset_total = df_asset_total.iloc[:,[3,0,1,2]]"
   ]
  },
  {
   "cell_type": "markdown",
   "metadata": {},
   "source": [
    "We will be using operative banks (excluding those who have shut)"
   ]
  },
  {
   "cell_type": "code",
   "execution_count": 3,
   "metadata": {},
   "outputs": [],
   "source": [
    "# Load dataframe with operative banks\n",
    "active = pd.read_csv(os.path.join(oscwd, \"data/vigentes.csv\"),\n",
    "                        dtype = {\n",
    "                                'EENTIDAD': str\n",
    "                        }\n",
    "                        )\n",
    "active.columns = [\"bank\"]"
   ]
  },
  {
   "cell_type": "code",
   "execution_count": 4,
   "metadata": {},
   "outputs": [],
   "source": [
    "# Create list of operative banks that are actually in the balance sheet statement\n",
    "banks = [a for a in active[\"bank\"] if a in df_evoldatos[\"bank\"].unique()]"
   ]
  },
  {
   "cell_type": "markdown",
   "metadata": {},
   "source": [
    "SECOND STEP: loading balance sheet accounts for each kpi from a json file"
   ]
  },
  {
   "cell_type": "code",
   "execution_count": 5,
   "metadata": {},
   "outputs": [],
   "source": [
    "with open(\"data/kpi.json\", \"r\") as kpi_json:\n",
    "    kpi_ind = json.load(kpi_json)\n",
    "\n",
    "num_list = list()\n",
    "num_sign = list()\n",
    "den_list = list()\n",
    "den_sign = list()\n",
    "\n",
    "for k in kpi_ind:\n",
    "    num_list.append(kpi_ind[k][\"num\"][\"n_acc\"])\n",
    "    num_sign.append(kpi_ind[k][\"num\"][\"sign\"])\n",
    "    den_list.append(kpi_ind[k][\"den\"][\"n_acc\"])\n",
    "    den_sign.append(kpi_ind[k][\"den\"][\"sign\"])"
   ]
  },
  {
   "cell_type": "markdown",
   "metadata": {},
   "source": [
    "THIRD STEP: filtering, aggregating and concatenating data."
   ]
  },
  {
   "cell_type": "markdown",
   "metadata": {},
   "source": [
    "We will remove non operative banks and also aggregate the data: grouping and averaging BALANCE SHEET accounts, while adding accounts for INCOME STATEMENT"
   ]
  },
  {
   "cell_type": "code",
   "execution_count": 6,
   "metadata": {},
   "outputs": [],
   "source": [
    "# Filtering by operative banks\n",
    "df_evoldatos = df_evoldatos[df_evoldatos[\"bank\"].isin(banks)]\n",
    "df_evolresul = df_evolresul[df_evolresul[\"bank\"].isin(banks)]\n",
    "df_evolintdocpers = df_evolintdocpers[df_evolintdocpers[\"bank\"].isin(banks)]\n",
    "df_avg_loan_seg_weighted_value = df_avg_loan_seg_weighted_value[df_avg_loan_seg_weighted_value[\"bank\"].isin(banks)]\n",
    "\n",
    "# Aggregating data\n",
    "df_evoldatos_agg = df_evoldatos.groupby(['bank', 'acc', 'per']).mean('total')\n",
    "df_evolresul_agg = df_evolresul.groupby(['bank', 'acc', 'per']).sum('total')\n",
    "df_evolintdocpers_agg = df_evolintdocpers.groupby(['bank', 'acc', 'per']).mean('total')"
   ]
  },
  {
   "cell_type": "code",
   "execution_count": 7,
   "metadata": {},
   "outputs": [],
   "source": [
    "# Reseting indexes\n",
    "df_evoldatos_agg = df_evoldatos_agg.reset_index()\n",
    "df_evolresul_agg = df_evolresul_agg.reset_index()\n",
    "df_evolintdocpers_agg = df_evolintdocpers_agg.reset_index()"
   ]
  },
  {
   "cell_type": "code",
   "execution_count": 9,
   "metadata": {},
   "outputs": [
    {
     "name": "stderr",
     "output_type": "stream",
     "text": [
      "C:\\Users\\MEC\\AppData\\Local\\Temp\\ipykernel_15784\\1280478950.py:3: SettingWithCopyWarning: \n",
      "A value is trying to be set on a copy of a slice from a DataFrame.\n",
      "Try using .loc[row_indexer,col_indexer] = value instead\n",
      "\n",
      "See the caveats in the documentation: https://pandas.pydata.org/pandas-docs/stable/user_guide/indexing.html#returning-a-view-versus-a-copy\n",
      "  df_asset[\"total\"] = [df_asset_total[\"total\"].loc[df_asset_total.index[df_asset_total[\"per\"]==p][0]] for p in df_asset[\"per\"]]\n",
      "C:\\Users\\MEC\\AppData\\Local\\Temp\\ipykernel_15784\\1280478950.py:4: SettingWithCopyWarning: \n",
      "A value is trying to be set on a copy of a slice from a DataFrame.\n",
      "Try using .loc[row_indexer,col_indexer] = value instead\n",
      "\n",
      "See the caveats in the documentation: https://pandas.pydata.org/pandas-docs/stable/user_guide/indexing.html#returning-a-view-versus-a-copy\n",
      "  df_asset[\"acc\"] = \"10000000000_11111\"\n"
     ]
    }
   ],
   "source": [
    "# df_test = pd.concat([df_evoldatos_agg[df_evoldatos_agg[\"Cuenta\"]==\"10000000000\"], df_asset_total], axis=1, keys=\"Anual\")\n",
    "df_asset = df_evoldatos_agg[df_evoldatos_agg[\"acc\"]==\"10000000000\"]\n",
    "df_asset[\"total\"] = [df_asset_total[\"total\"].loc[df_asset_total.index[df_asset_total[\"per\"]==p][0]] for p in df_asset[\"per\"]]\n",
    "df_asset[\"acc\"] = \"10000000000_11111\""
   ]
  },
  {
   "cell_type": "code",
   "execution_count": 11,
   "metadata": {},
   "outputs": [],
   "source": [
    "# Concatenating and filtering out any data prior to ....\n",
    "df_evol = pd.concat([df_evoldatos_agg, df_evolresul_agg, df_evolintdocpers_agg, df_asset, df_avg_loan_seg_weighted_value])\n",
    "df_evol = df_evol[df_evol[\"per\"]==\"2015\"]"
   ]
  },
  {
   "cell_type": "markdown",
   "metadata": {},
   "source": [
    "FOURTH STEP: calculating kpis"
   ]
  },
  {
   "cell_type": "code",
   "execution_count": 12,
   "metadata": {},
   "outputs": [
    {
     "name": "stderr",
     "output_type": "stream",
     "text": [
      "C:\\Users\\MEC\\AppData\\Local\\Temp\\ipykernel_15784\\3441073303.py:12: FutureWarning: Index.__and__ operating as a set operation is deprecated, in the future this will be a logical operation matching Series.__and__.  Use index.intersection(other) instead.\n",
      "  df_pivot[\"num\"] = (df_pivot[df_pivot.columns & num_list[i]] * [num_sign[i][num_list[i].index(acc_list)] for acc_list in df_pivot[df_pivot.columns & num_list[i]].columns]).sum(axis=1)\n",
      "C:\\Users\\MEC\\AppData\\Local\\Temp\\ipykernel_15784\\3441073303.py:13: FutureWarning: Index.__and__ operating as a set operation is deprecated, in the future this will be a logical operation matching Series.__and__.  Use index.intersection(other) instead.\n",
      "  df_pivot[\"den\"] = (df_pivot[df_pivot.columns & den_list[i]] * [den_sign[i][den_list[i].index(acc_list)] for acc_list in df_pivot[df_pivot.columns & den_list[i]].columns]).sum(axis=1)\n",
      "C:\\Users\\MEC\\AppData\\Local\\Temp\\ipykernel_15784\\3441073303.py:20: FutureWarning: The frame.append method is deprecated and will be removed from pandas in a future version. Use pandas.concat instead.\n",
      "  df_ind = df_ind.append(df_to_ind)\n",
      "C:\\Users\\MEC\\AppData\\Local\\Temp\\ipykernel_15784\\3441073303.py:12: FutureWarning: Index.__and__ operating as a set operation is deprecated, in the future this will be a logical operation matching Series.__and__.  Use index.intersection(other) instead.\n",
      "  df_pivot[\"num\"] = (df_pivot[df_pivot.columns & num_list[i]] * [num_sign[i][num_list[i].index(acc_list)] for acc_list in df_pivot[df_pivot.columns & num_list[i]].columns]).sum(axis=1)\n",
      "C:\\Users\\MEC\\AppData\\Local\\Temp\\ipykernel_15784\\3441073303.py:13: FutureWarning: Index.__and__ operating as a set operation is deprecated, in the future this will be a logical operation matching Series.__and__.  Use index.intersection(other) instead.\n",
      "  df_pivot[\"den\"] = (df_pivot[df_pivot.columns & den_list[i]] * [den_sign[i][den_list[i].index(acc_list)] for acc_list in df_pivot[df_pivot.columns & den_list[i]].columns]).sum(axis=1)\n",
      "C:\\Users\\MEC\\AppData\\Local\\Temp\\ipykernel_15784\\3441073303.py:20: FutureWarning: The frame.append method is deprecated and will be removed from pandas in a future version. Use pandas.concat instead.\n",
      "  df_ind = df_ind.append(df_to_ind)\n",
      "C:\\Users\\MEC\\AppData\\Local\\Temp\\ipykernel_15784\\3441073303.py:12: FutureWarning: Index.__and__ operating as a set operation is deprecated, in the future this will be a logical operation matching Series.__and__.  Use index.intersection(other) instead.\n",
      "  df_pivot[\"num\"] = (df_pivot[df_pivot.columns & num_list[i]] * [num_sign[i][num_list[i].index(acc_list)] for acc_list in df_pivot[df_pivot.columns & num_list[i]].columns]).sum(axis=1)\n",
      "C:\\Users\\MEC\\AppData\\Local\\Temp\\ipykernel_15784\\3441073303.py:13: FutureWarning: Index.__and__ operating as a set operation is deprecated, in the future this will be a logical operation matching Series.__and__.  Use index.intersection(other) instead.\n",
      "  df_pivot[\"den\"] = (df_pivot[df_pivot.columns & den_list[i]] * [den_sign[i][den_list[i].index(acc_list)] for acc_list in df_pivot[df_pivot.columns & den_list[i]].columns]).sum(axis=1)\n",
      "C:\\Users\\MEC\\AppData\\Local\\Temp\\ipykernel_15784\\3441073303.py:20: FutureWarning: The frame.append method is deprecated and will be removed from pandas in a future version. Use pandas.concat instead.\n",
      "  df_ind = df_ind.append(df_to_ind)\n",
      "C:\\Users\\MEC\\AppData\\Local\\Temp\\ipykernel_15784\\3441073303.py:12: FutureWarning: Index.__and__ operating as a set operation is deprecated, in the future this will be a logical operation matching Series.__and__.  Use index.intersection(other) instead.\n",
      "  df_pivot[\"num\"] = (df_pivot[df_pivot.columns & num_list[i]] * [num_sign[i][num_list[i].index(acc_list)] for acc_list in df_pivot[df_pivot.columns & num_list[i]].columns]).sum(axis=1)\n",
      "C:\\Users\\MEC\\AppData\\Local\\Temp\\ipykernel_15784\\3441073303.py:13: FutureWarning: Index.__and__ operating as a set operation is deprecated, in the future this will be a logical operation matching Series.__and__.  Use index.intersection(other) instead.\n",
      "  df_pivot[\"den\"] = (df_pivot[df_pivot.columns & den_list[i]] * [den_sign[i][den_list[i].index(acc_list)] for acc_list in df_pivot[df_pivot.columns & den_list[i]].columns]).sum(axis=1)\n",
      "C:\\Users\\MEC\\AppData\\Local\\Temp\\ipykernel_15784\\3441073303.py:20: FutureWarning: The frame.append method is deprecated and will be removed from pandas in a future version. Use pandas.concat instead.\n",
      "  df_ind = df_ind.append(df_to_ind)\n",
      "C:\\Users\\MEC\\AppData\\Local\\Temp\\ipykernel_15784\\3441073303.py:12: FutureWarning: Index.__and__ operating as a set operation is deprecated, in the future this will be a logical operation matching Series.__and__.  Use index.intersection(other) instead.\n",
      "  df_pivot[\"num\"] = (df_pivot[df_pivot.columns & num_list[i]] * [num_sign[i][num_list[i].index(acc_list)] for acc_list in df_pivot[df_pivot.columns & num_list[i]].columns]).sum(axis=1)\n",
      "C:\\Users\\MEC\\AppData\\Local\\Temp\\ipykernel_15784\\3441073303.py:13: FutureWarning: Index.__and__ operating as a set operation is deprecated, in the future this will be a logical operation matching Series.__and__.  Use index.intersection(other) instead.\n",
      "  df_pivot[\"den\"] = (df_pivot[df_pivot.columns & den_list[i]] * [den_sign[i][den_list[i].index(acc_list)] for acc_list in df_pivot[df_pivot.columns & den_list[i]].columns]).sum(axis=1)\n",
      "C:\\Users\\MEC\\AppData\\Local\\Temp\\ipykernel_15784\\3441073303.py:20: FutureWarning: The frame.append method is deprecated and will be removed from pandas in a future version. Use pandas.concat instead.\n",
      "  df_ind = df_ind.append(df_to_ind)\n",
      "C:\\Users\\MEC\\AppData\\Local\\Temp\\ipykernel_15784\\3441073303.py:12: FutureWarning: Index.__and__ operating as a set operation is deprecated, in the future this will be a logical operation matching Series.__and__.  Use index.intersection(other) instead.\n",
      "  df_pivot[\"num\"] = (df_pivot[df_pivot.columns & num_list[i]] * [num_sign[i][num_list[i].index(acc_list)] for acc_list in df_pivot[df_pivot.columns & num_list[i]].columns]).sum(axis=1)\n",
      "C:\\Users\\MEC\\AppData\\Local\\Temp\\ipykernel_15784\\3441073303.py:13: FutureWarning: Index.__and__ operating as a set operation is deprecated, in the future this will be a logical operation matching Series.__and__.  Use index.intersection(other) instead.\n",
      "  df_pivot[\"den\"] = (df_pivot[df_pivot.columns & den_list[i]] * [den_sign[i][den_list[i].index(acc_list)] for acc_list in df_pivot[df_pivot.columns & den_list[i]].columns]).sum(axis=1)\n",
      "C:\\Users\\MEC\\AppData\\Local\\Temp\\ipykernel_15784\\3441073303.py:20: FutureWarning: The frame.append method is deprecated and will be removed from pandas in a future version. Use pandas.concat instead.\n",
      "  df_ind = df_ind.append(df_to_ind)\n",
      "C:\\Users\\MEC\\AppData\\Local\\Temp\\ipykernel_15784\\3441073303.py:12: FutureWarning: Index.__and__ operating as a set operation is deprecated, in the future this will be a logical operation matching Series.__and__.  Use index.intersection(other) instead.\n",
      "  df_pivot[\"num\"] = (df_pivot[df_pivot.columns & num_list[i]] * [num_sign[i][num_list[i].index(acc_list)] for acc_list in df_pivot[df_pivot.columns & num_list[i]].columns]).sum(axis=1)\n",
      "C:\\Users\\MEC\\AppData\\Local\\Temp\\ipykernel_15784\\3441073303.py:13: FutureWarning: Index.__and__ operating as a set operation is deprecated, in the future this will be a logical operation matching Series.__and__.  Use index.intersection(other) instead.\n",
      "  df_pivot[\"den\"] = (df_pivot[df_pivot.columns & den_list[i]] * [den_sign[i][den_list[i].index(acc_list)] for acc_list in df_pivot[df_pivot.columns & den_list[i]].columns]).sum(axis=1)\n",
      "C:\\Users\\MEC\\AppData\\Local\\Temp\\ipykernel_15784\\3441073303.py:20: FutureWarning: The frame.append method is deprecated and will be removed from pandas in a future version. Use pandas.concat instead.\n",
      "  df_ind = df_ind.append(df_to_ind)\n",
      "C:\\Users\\MEC\\AppData\\Local\\Temp\\ipykernel_15784\\3441073303.py:12: FutureWarning: Index.__and__ operating as a set operation is deprecated, in the future this will be a logical operation matching Series.__and__.  Use index.intersection(other) instead.\n",
      "  df_pivot[\"num\"] = (df_pivot[df_pivot.columns & num_list[i]] * [num_sign[i][num_list[i].index(acc_list)] for acc_list in df_pivot[df_pivot.columns & num_list[i]].columns]).sum(axis=1)\n",
      "C:\\Users\\MEC\\AppData\\Local\\Temp\\ipykernel_15784\\3441073303.py:13: FutureWarning: Index.__and__ operating as a set operation is deprecated, in the future this will be a logical operation matching Series.__and__.  Use index.intersection(other) instead.\n",
      "  df_pivot[\"den\"] = (df_pivot[df_pivot.columns & den_list[i]] * [den_sign[i][den_list[i].index(acc_list)] for acc_list in df_pivot[df_pivot.columns & den_list[i]].columns]).sum(axis=1)\n",
      "C:\\Users\\MEC\\AppData\\Local\\Temp\\ipykernel_15784\\3441073303.py:20: FutureWarning: The frame.append method is deprecated and will be removed from pandas in a future version. Use pandas.concat instead.\n",
      "  df_ind = df_ind.append(df_to_ind)\n",
      "C:\\Users\\MEC\\AppData\\Local\\Temp\\ipykernel_15784\\3441073303.py:12: FutureWarning: Index.__and__ operating as a set operation is deprecated, in the future this will be a logical operation matching Series.__and__.  Use index.intersection(other) instead.\n",
      "  df_pivot[\"num\"] = (df_pivot[df_pivot.columns & num_list[i]] * [num_sign[i][num_list[i].index(acc_list)] for acc_list in df_pivot[df_pivot.columns & num_list[i]].columns]).sum(axis=1)\n",
      "C:\\Users\\MEC\\AppData\\Local\\Temp\\ipykernel_15784\\3441073303.py:13: FutureWarning: Index.__and__ operating as a set operation is deprecated, in the future this will be a logical operation matching Series.__and__.  Use index.intersection(other) instead.\n",
      "  df_pivot[\"den\"] = (df_pivot[df_pivot.columns & den_list[i]] * [den_sign[i][den_list[i].index(acc_list)] for acc_list in df_pivot[df_pivot.columns & den_list[i]].columns]).sum(axis=1)\n",
      "C:\\Users\\MEC\\AppData\\Local\\Temp\\ipykernel_15784\\3441073303.py:20: FutureWarning: The frame.append method is deprecated and will be removed from pandas in a future version. Use pandas.concat instead.\n",
      "  df_ind = df_ind.append(df_to_ind)\n",
      "C:\\Users\\MEC\\AppData\\Local\\Temp\\ipykernel_15784\\3441073303.py:12: FutureWarning: Index.__and__ operating as a set operation is deprecated, in the future this will be a logical operation matching Series.__and__.  Use index.intersection(other) instead.\n",
      "  df_pivot[\"num\"] = (df_pivot[df_pivot.columns & num_list[i]] * [num_sign[i][num_list[i].index(acc_list)] for acc_list in df_pivot[df_pivot.columns & num_list[i]].columns]).sum(axis=1)\n",
      "C:\\Users\\MEC\\AppData\\Local\\Temp\\ipykernel_15784\\3441073303.py:13: FutureWarning: Index.__and__ operating as a set operation is deprecated, in the future this will be a logical operation matching Series.__and__.  Use index.intersection(other) instead.\n",
      "  df_pivot[\"den\"] = (df_pivot[df_pivot.columns & den_list[i]] * [den_sign[i][den_list[i].index(acc_list)] for acc_list in df_pivot[df_pivot.columns & den_list[i]].columns]).sum(axis=1)\n",
      "C:\\Users\\MEC\\AppData\\Local\\Temp\\ipykernel_15784\\3441073303.py:20: FutureWarning: The frame.append method is deprecated and will be removed from pandas in a future version. Use pandas.concat instead.\n",
      "  df_ind = df_ind.append(df_to_ind)\n",
      "C:\\Users\\MEC\\AppData\\Local\\Temp\\ipykernel_15784\\3441073303.py:12: FutureWarning: Index.__and__ operating as a set operation is deprecated, in the future this will be a logical operation matching Series.__and__.  Use index.intersection(other) instead.\n",
      "  df_pivot[\"num\"] = (df_pivot[df_pivot.columns & num_list[i]] * [num_sign[i][num_list[i].index(acc_list)] for acc_list in df_pivot[df_pivot.columns & num_list[i]].columns]).sum(axis=1)\n",
      "C:\\Users\\MEC\\AppData\\Local\\Temp\\ipykernel_15784\\3441073303.py:13: FutureWarning: Index.__and__ operating as a set operation is deprecated, in the future this will be a logical operation matching Series.__and__.  Use index.intersection(other) instead.\n",
      "  df_pivot[\"den\"] = (df_pivot[df_pivot.columns & den_list[i]] * [den_sign[i][den_list[i].index(acc_list)] for acc_list in df_pivot[df_pivot.columns & den_list[i]].columns]).sum(axis=1)\n",
      "C:\\Users\\MEC\\AppData\\Local\\Temp\\ipykernel_15784\\3441073303.py:20: FutureWarning: The frame.append method is deprecated and will be removed from pandas in a future version. Use pandas.concat instead.\n",
      "  df_ind = df_ind.append(df_to_ind)\n",
      "C:\\Users\\MEC\\AppData\\Local\\Temp\\ipykernel_15784\\3441073303.py:12: FutureWarning: Index.__and__ operating as a set operation is deprecated, in the future this will be a logical operation matching Series.__and__.  Use index.intersection(other) instead.\n",
      "  df_pivot[\"num\"] = (df_pivot[df_pivot.columns & num_list[i]] * [num_sign[i][num_list[i].index(acc_list)] for acc_list in df_pivot[df_pivot.columns & num_list[i]].columns]).sum(axis=1)\n",
      "C:\\Users\\MEC\\AppData\\Local\\Temp\\ipykernel_15784\\3441073303.py:13: FutureWarning: Index.__and__ operating as a set operation is deprecated, in the future this will be a logical operation matching Series.__and__.  Use index.intersection(other) instead.\n",
      "  df_pivot[\"den\"] = (df_pivot[df_pivot.columns & den_list[i]] * [den_sign[i][den_list[i].index(acc_list)] for acc_list in df_pivot[df_pivot.columns & den_list[i]].columns]).sum(axis=1)\n",
      "C:\\Users\\MEC\\AppData\\Local\\Temp\\ipykernel_15784\\3441073303.py:20: FutureWarning: The frame.append method is deprecated and will be removed from pandas in a future version. Use pandas.concat instead.\n",
      "  df_ind = df_ind.append(df_to_ind)\n",
      "C:\\Users\\MEC\\AppData\\Local\\Temp\\ipykernel_15784\\3441073303.py:12: FutureWarning: Index.__and__ operating as a set operation is deprecated, in the future this will be a logical operation matching Series.__and__.  Use index.intersection(other) instead.\n",
      "  df_pivot[\"num\"] = (df_pivot[df_pivot.columns & num_list[i]] * [num_sign[i][num_list[i].index(acc_list)] for acc_list in df_pivot[df_pivot.columns & num_list[i]].columns]).sum(axis=1)\n",
      "C:\\Users\\MEC\\AppData\\Local\\Temp\\ipykernel_15784\\3441073303.py:13: FutureWarning: Index.__and__ operating as a set operation is deprecated, in the future this will be a logical operation matching Series.__and__.  Use index.intersection(other) instead.\n",
      "  df_pivot[\"den\"] = (df_pivot[df_pivot.columns & den_list[i]] * [den_sign[i][den_list[i].index(acc_list)] for acc_list in df_pivot[df_pivot.columns & den_list[i]].columns]).sum(axis=1)\n",
      "C:\\Users\\MEC\\AppData\\Local\\Temp\\ipykernel_15784\\3441073303.py:20: FutureWarning: The frame.append method is deprecated and will be removed from pandas in a future version. Use pandas.concat instead.\n",
      "  df_ind = df_ind.append(df_to_ind)\n",
      "C:\\Users\\MEC\\AppData\\Local\\Temp\\ipykernel_15784\\3441073303.py:12: FutureWarning: Index.__and__ operating as a set operation is deprecated, in the future this will be a logical operation matching Series.__and__.  Use index.intersection(other) instead.\n",
      "  df_pivot[\"num\"] = (df_pivot[df_pivot.columns & num_list[i]] * [num_sign[i][num_list[i].index(acc_list)] for acc_list in df_pivot[df_pivot.columns & num_list[i]].columns]).sum(axis=1)\n",
      "C:\\Users\\MEC\\AppData\\Local\\Temp\\ipykernel_15784\\3441073303.py:13: FutureWarning: Index.__and__ operating as a set operation is deprecated, in the future this will be a logical operation matching Series.__and__.  Use index.intersection(other) instead.\n",
      "  df_pivot[\"den\"] = (df_pivot[df_pivot.columns & den_list[i]] * [den_sign[i][den_list[i].index(acc_list)] for acc_list in df_pivot[df_pivot.columns & den_list[i]].columns]).sum(axis=1)\n",
      "C:\\Users\\MEC\\AppData\\Local\\Temp\\ipykernel_15784\\3441073303.py:20: FutureWarning: The frame.append method is deprecated and will be removed from pandas in a future version. Use pandas.concat instead.\n",
      "  df_ind = df_ind.append(df_to_ind)\n",
      "C:\\Users\\MEC\\AppData\\Local\\Temp\\ipykernel_15784\\3441073303.py:12: FutureWarning: Index.__and__ operating as a set operation is deprecated, in the future this will be a logical operation matching Series.__and__.  Use index.intersection(other) instead.\n",
      "  df_pivot[\"num\"] = (df_pivot[df_pivot.columns & num_list[i]] * [num_sign[i][num_list[i].index(acc_list)] for acc_list in df_pivot[df_pivot.columns & num_list[i]].columns]).sum(axis=1)\n",
      "C:\\Users\\MEC\\AppData\\Local\\Temp\\ipykernel_15784\\3441073303.py:13: FutureWarning: Index.__and__ operating as a set operation is deprecated, in the future this will be a logical operation matching Series.__and__.  Use index.intersection(other) instead.\n",
      "  df_pivot[\"den\"] = (df_pivot[df_pivot.columns & den_list[i]] * [den_sign[i][den_list[i].index(acc_list)] for acc_list in df_pivot[df_pivot.columns & den_list[i]].columns]).sum(axis=1)\n",
      "C:\\Users\\MEC\\AppData\\Local\\Temp\\ipykernel_15784\\3441073303.py:20: FutureWarning: The frame.append method is deprecated and will be removed from pandas in a future version. Use pandas.concat instead.\n",
      "  df_ind = df_ind.append(df_to_ind)\n",
      "C:\\Users\\MEC\\AppData\\Local\\Temp\\ipykernel_15784\\3441073303.py:12: FutureWarning: Index.__and__ operating as a set operation is deprecated, in the future this will be a logical operation matching Series.__and__.  Use index.intersection(other) instead.\n",
      "  df_pivot[\"num\"] = (df_pivot[df_pivot.columns & num_list[i]] * [num_sign[i][num_list[i].index(acc_list)] for acc_list in df_pivot[df_pivot.columns & num_list[i]].columns]).sum(axis=1)\n",
      "C:\\Users\\MEC\\AppData\\Local\\Temp\\ipykernel_15784\\3441073303.py:13: FutureWarning: Index.__and__ operating as a set operation is deprecated, in the future this will be a logical operation matching Series.__and__.  Use index.intersection(other) instead.\n",
      "  df_pivot[\"den\"] = (df_pivot[df_pivot.columns & den_list[i]] * [den_sign[i][den_list[i].index(acc_list)] for acc_list in df_pivot[df_pivot.columns & den_list[i]].columns]).sum(axis=1)\n",
      "C:\\Users\\MEC\\AppData\\Local\\Temp\\ipykernel_15784\\3441073303.py:20: FutureWarning: The frame.append method is deprecated and will be removed from pandas in a future version. Use pandas.concat instead.\n",
      "  df_ind = df_ind.append(df_to_ind)\n",
      "C:\\Users\\MEC\\AppData\\Local\\Temp\\ipykernel_15784\\3441073303.py:12: FutureWarning: Index.__and__ operating as a set operation is deprecated, in the future this will be a logical operation matching Series.__and__.  Use index.intersection(other) instead.\n",
      "  df_pivot[\"num\"] = (df_pivot[df_pivot.columns & num_list[i]] * [num_sign[i][num_list[i].index(acc_list)] for acc_list in df_pivot[df_pivot.columns & num_list[i]].columns]).sum(axis=1)\n",
      "C:\\Users\\MEC\\AppData\\Local\\Temp\\ipykernel_15784\\3441073303.py:13: FutureWarning: Index.__and__ operating as a set operation is deprecated, in the future this will be a logical operation matching Series.__and__.  Use index.intersection(other) instead.\n",
      "  df_pivot[\"den\"] = (df_pivot[df_pivot.columns & den_list[i]] * [den_sign[i][den_list[i].index(acc_list)] for acc_list in df_pivot[df_pivot.columns & den_list[i]].columns]).sum(axis=1)\n",
      "C:\\Users\\MEC\\AppData\\Local\\Temp\\ipykernel_15784\\3441073303.py:20: FutureWarning: The frame.append method is deprecated and will be removed from pandas in a future version. Use pandas.concat instead.\n",
      "  df_ind = df_ind.append(df_to_ind)\n",
      "C:\\Users\\MEC\\AppData\\Local\\Temp\\ipykernel_15784\\3441073303.py:12: FutureWarning: Index.__and__ operating as a set operation is deprecated, in the future this will be a logical operation matching Series.__and__.  Use index.intersection(other) instead.\n",
      "  df_pivot[\"num\"] = (df_pivot[df_pivot.columns & num_list[i]] * [num_sign[i][num_list[i].index(acc_list)] for acc_list in df_pivot[df_pivot.columns & num_list[i]].columns]).sum(axis=1)\n",
      "C:\\Users\\MEC\\AppData\\Local\\Temp\\ipykernel_15784\\3441073303.py:13: FutureWarning: Index.__and__ operating as a set operation is deprecated, in the future this will be a logical operation matching Series.__and__.  Use index.intersection(other) instead.\n",
      "  df_pivot[\"den\"] = (df_pivot[df_pivot.columns & den_list[i]] * [den_sign[i][den_list[i].index(acc_list)] for acc_list in df_pivot[df_pivot.columns & den_list[i]].columns]).sum(axis=1)\n",
      "C:\\Users\\MEC\\AppData\\Local\\Temp\\ipykernel_15784\\3441073303.py:20: FutureWarning: The frame.append method is deprecated and will be removed from pandas in a future version. Use pandas.concat instead.\n",
      "  df_ind = df_ind.append(df_to_ind)\n"
     ]
    }
   ],
   "source": [
    "per_list = [p for p in df_evol[\"per\"].unique()]\n",
    "acc_lists = [num_list[i]+den_list[i] for i in range(len(num_list))]\n",
    "kpi_list = [kpi for kpi in kpi_ind.keys()]\n",
    "\n",
    "df_ind = pd.DataFrame([], columns=[\"ent\", \"per\", \"ind\", \"val\"])\n",
    "\n",
    "for i, acc_list in enumerate(acc_lists):\n",
    "    for p in per_list:\n",
    "        try:\n",
    "            df_pivot = df_evol[(df_evol[\"per\"]==p)&(df_evol[\"acc\"].isin(acc_list))].pivot(index=[\"bank\"], columns=\"acc\", values=\"total\").reset_index()\n",
    "            # df_pivot = df_pivot.fillna(0)\n",
    "            df_pivot[\"num\"] = (df_pivot[df_pivot.columns & num_list[i]] * [num_sign[i][num_list[i].index(acc_list)] for acc_list in df_pivot[df_pivot.columns & num_list[i]].columns]).sum(axis=1)\n",
    "            df_pivot[\"den\"] = (df_pivot[df_pivot.columns & den_list[i]] * [den_sign[i][den_list[i].index(acc_list)] for acc_list in df_pivot[df_pivot.columns & den_list[i]].columns]).sum(axis=1)\n",
    "            df_pivot[kpi_list[i]] = df_pivot[\"num\"] / df_pivot[\"den\"]\n",
    "            df_pivot[kpi_list[i]] = df_pivot[kpi_list[i]].replace([np.inf, -np.inf, \"\"], 0)\n",
    "            df_pivot[kpi_list[i]] = df_pivot[kpi_list[i]].fillna(0)\n",
    "\n",
    "            df_to_ind = pd.DataFrame({\"ent\": df_pivot[df_pivot.columns[0]], \"per\": p, \"ind\": kpi_list[i], \"val\": df_pivot[kpi_list[i]]})\n",
    "\n",
    "            df_ind = df_ind.append(df_to_ind)\n",
    "        except Exception as e:\n",
    "            print(e)\n",
    "            pass\n",
    "\n",
    "df_ind.to_csv(\"data/kpis.csv\", sep=\",\", index=False)"
   ]
  }
 ],
 "metadata": {
  "kernelspec": {
   "display_name": "Python 3.10.5 ('cbbm-RQGQLPr7-py3.10')",
   "language": "python",
   "name": "python3"
  },
  "language_info": {
   "codemirror_mode": {
    "name": "ipython",
    "version": 3
   },
   "file_extension": ".py",
   "mimetype": "text/x-python",
   "name": "python",
   "nbconvert_exporter": "python",
   "pygments_lexer": "ipython3",
   "version": "3.10.5"
  },
  "orig_nbformat": 4,
  "vscode": {
   "interpreter": {
    "hash": "0bd4a477d0876910250915e3e9f7d6b6cb97ff716c94d5f9b489478001bf4dca"
   }
  }
 },
 "nbformat": 4,
 "nbformat_minor": 2
}
