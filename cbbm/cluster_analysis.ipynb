{
 "cells": [
  {
   "cell_type": "code",
   "execution_count": 1,
   "metadata": {},
   "outputs": [],
   "source": [
    "import os\n",
    "import pandas as pd\n",
    "import numpy as np\n",
    "import json\n",
    "import os\n",
    "import random\n",
    "import openpyxl\n",
    "import matplotlib.pyplot as plt\n",
    "import matplotlib.cm as cm\n",
    "%matplotlib inline\n",
    "import seaborn as sns\n",
    "from sklearn.decomposition import PCA\n",
    "from sklearn.preprocessing import MinMaxScaler\n",
    "from sklearn.preprocessing import RobustScaler, MaxAbsScaler, Normalizer, StandardScaler, PowerTransformer, QuantileTransformer\n",
    "from sklearn.neighbors import LocalOutlierFactor\n",
    "from sklearn.cluster import KMeans, MiniBatchKMeans\n",
    "from sklearn_extra.cluster import KMedoids\n",
    "from sklearn.metrics import silhouette_samples, silhouette_score\n",
    "from yellowbrick.cluster import KElbowVisualizer\n",
    "from yellowbrick.cluster import SilhouetteVisualizer\n",
    "# from yellowbrick.datasets import load_nfl\n",
    "import benchmarks\n",
    "import visualizations\n",
    "\n",
    "import time\n",
    "import IPython\n",
    "\n",
    "import numpy as np\n",
    "import matplotlib\n",
    "import matplotlib.pyplot as plt\n",
    "from sklearn import svm\n",
    "from sklearn.covariance import EllipticEnvelope\n",
    "from sklearn.ensemble import IsolationForest\n",
    "from sklearn.neighbors import LocalOutlierFactor\n",
    "from sklearn.linear_model import SGDOneClassSVM\n",
    "from sklearn.kernel_approximation import Nystroem\n",
    "from sklearn.cluster import DBSCAN\n",
    "from sklearn.pipeline import make_pipeline\n",
    "from sklearn.neighbors import NearestNeighbors\n",
    "# from kneed import KneeLocator, DataGenerator\n",
    "import joblib\n",
    "\n",
    "import transform_functions\n",
    "# from .benchmarks import bench_k_means, bench_k_medoids\n",
    "plt.rcParams[\"figure.figsize\"] = plt.rcParamsDefault[\"figure.figsize\"]\n",
    "# plt.figure(figsize=(15, 12))"
   ]
  },
  {
   "cell_type": "code",
   "execution_count": 2,
   "metadata": {},
   "outputs": [],
   "source": [
    "# Load dataframe with average weighted value of loan segments\n",
    "oscwd = os.getcwd()\n",
    "df_entidad = pd.read_csv(os.path.join(oscwd, \"data/GH.txt\"), encoding=\"utf-8\",\n",
    "                            dtype = {\n",
    "                                    'CODIGO': int, 'ENTIDAD': str, \n",
    "                                    'Grupo': float\n",
    "                                    }\n",
    "                                    # parse_dates=['Periodo'],\n",
    "                            )\n",
    "drop_ent = [11, 14, 29, 300] # list(df_entidad[\"CODIGO\"][df_entidad[\"Grupo\"]==8.0])\n",
    "drop_digitales = [143, 158, 384, 45030]\n",
    "drop_auto = [340, 44059, 44088, 44092, 44093, 44094, 44095, 44096, 44098, 44099]\n",
    "drop_ent = drop_ent + drop_digitales + drop_auto"
   ]
  },
  {
   "cell_type": "code",
   "execution_count": 3,
   "metadata": {},
   "outputs": [
    {
     "name": "stdout",
     "output_type": "stream",
     "text": [
      "[0.9284142313040363, 0.04792162371369019, 0.022126750199499372, 0.0005987043033277316, 0.00043067361343134783, 0.00018514556228113572, 0.00010587610382139202, 7.380392759190591e-05, 6.092830582358232e-05, 3.2437382623296424e-05, 2.2717553079515647e-05, 1.3624084378153734e-05, 6.26214222617098e-06, 3.422397705465153e-06, 2.294571301085102e-06, 1.5048351835184869e-06]\n"
     ]
    },
    {
     "data": {
      "image/png": "[encoded data removed]",
      "text/plain": [
       "<Figure size 460.8x345.6 with 1 Axes>"
      ]
     },
     "metadata": {},
     "output_type": "display_data"
    },
    {
     "name": "stdout",
     "output_type": "stream",
     "text": [
      "16\n",
      "key_features index, [10, 14, 7, 3, 12, 8, 0, 8, 15, 13, 11, 2, 6, 1, 5, 9]\n",
      "key_features, ['net_int_inc_tot_income', 'serv_rev_tot_inc', 'exp_dep_cap_loans', 'consumer_loans_assets', 'pers_cred_card_loans', 'loans_cap_assets', 'adv_curr_acc_disc_doc_loans', 'loans_cap_assets', 'titles_assets', 'roe', 'net_worth_assets', 'business_loans_assets', 'exp_assets', 'asset_tot_asset', 'deriv_assets', 'loans_cap_to_banks_assets']\n",
      "key_features, ['net_int_inc_tot_income', 'serv_rev_tot_inc', 'exp_dep_cap_loans', 'consumer_loans_assets', 'pers_cred_card_loans', 'loans_cap_assets', 'adv_curr_acc_disc_doc_loans', 'titles_assets', 'roe', 'net_worth_assets', 'business_loans_assets', 'exp_assets', 'asset_tot_asset', 'deriv_assets', 'loans_cap_to_banks_assets']\n",
      "number of significant features 1\n",
      "Significant features = 3\n",
      "Features used for clustering ['net_int_inc_tot_income', 'serv_rev_tot_inc', 'exp_dep_cap_loans']\n"
     ]
    }
   ],
   "source": [
    "data_kpis = pd.read_csv(\"data/kpis.csv\")\n",
    "\n",
    "start = 2008\n",
    "end = 2018\n",
    "data = transform_functions.get_mean_pivot_table(data_kpis, 0, 2, 1, 3, start, end)\n",
    "data = data[[\n",
    "            'ent', \n",
    "            'adv_curr_acc_disc_doc_loans', 'asset_tot_asset',\n",
    "            'business_loans_assets', 'consumer_loans_assets', 'dep_cap_assets',\n",
    "            'deriv_assets', 'exp_assets', 'exp_dep_cap_loans',\n",
    "            'implied_lending_rate', 'implied_liable_rate', 'implied_spread',\n",
    "            'liquidity_ratio', 'loan_avg_segment_asset', 'loans_cap_assets',\n",
    "            'loans_cap_to_banks_assets', 'net_int_inc_tot_income',\n",
    "            'net_worth_assets', 'pers_cred_card_loans', 'roe', 'serv_rev_tot_inc',\n",
    "            'titles_assets'\n",
    "            ]]\n",
    "data = data.drop(columns=[\n",
    "            #'adv_curr_acc_disc_doc_loans', 'asset_tot_asset',\n",
    "            #'business_loans_assets', \n",
    "            #'consumer_loans_assets', \n",
    "            #'dep_cap_assets',\n",
    "            #'deriv_assets', \n",
    "            #'exp_assets', \n",
    "            #'exp_dep_cap_loans',\n",
    "            'implied_lending_rate', 'implied_liable_rate', 'implied_spread',\n",
    "            'liquidity_ratio', \n",
    "            'loan_avg_segment_asset', \n",
    "            #'loans_cap_assets',\n",
    "            #'loans_cap_to_banks_assets', \n",
    "            #'net_int_inc_tot_income',\n",
    "            #'net_worth_assets', 'pers_cred_card_loans', \n",
    "            #'roe', 'serv_rev_tot_inc',\n",
    "            #'titles_assets'\n",
    "            ])\n",
    "data_arr = data.iloc[:,1:].to_numpy()\n",
    "\n",
    "pca = PCA()\n",
    "pca.fit(data_arr)\n",
    "df_pca_all = pca.transform(data_arr)\n",
    "eigenvalues = pca.explained_variance_\n",
    "eigen_perc = [float(c)/sum(eigenvalues) for c in eigenvalues]\n",
    "print(eigen_perc)\n",
    "plt.bar(np.arange(0,data.iloc[:,1:].shape[1],1), eigenvalues)\n",
    "plt.plot(eigenvalues, \"r\")\n",
    "plt.plot(eigenvalues, \"ro\")\n",
    "plt.show()\n",
    "\n",
    "# number of components\n",
    "n_pcs= pca.components_.shape[0]\n",
    "print(n_pcs)\n",
    "\n",
    "# get the index of the most important feature on EACH component i.e. largest absolute value\n",
    "# using LIST COMPREHENSION HERE\n",
    "key_features_idx = [np.abs(pca.components_[i]).argmax() for i in range(n_pcs)]\n",
    "print(\"key_features index,\", key_features_idx)\n",
    "\n",
    "features = data.columns[1:]\n",
    "\n",
    "# get the names\n",
    "key_features = [features[key_features_idx[i]] for i in range(n_pcs)]\n",
    "print(\"key_features,\", key_features)\n",
    "\n",
    "key_features_set = []\n",
    "if len(key_features) > len(set(key_features)):\n",
    "    for i, j in enumerate(key_features):\n",
    "        if j not in key_features[0:i]:\n",
    "            key_features_set.append(j)\n",
    "    key_features =  key_features_set\n",
    "else:\n",
    "    pass\n",
    "\n",
    "print(\"key_features,\", key_features)\n",
    "\n",
    "len_eigen_value = len([e for e in eigen_perc if e >= 0.05])\n",
    "print(\"number of significant features\", len_eigen_value)\n",
    "n_features = len_eigen_value if len_eigen_value > 3 else 3\n",
    "print(\"Significant features =\", n_features)\n",
    "sum_acc = np.cumsum(eigen_perc)\n",
    "\n",
    "key_features = key_features[0:n_features]\n",
    "print(\"Features used for clustering\", key_features)"
   ]
  },
  {
   "cell_type": "code",
   "execution_count": 4,
   "metadata": {},
   "outputs": [],
   "source": [
    "%%capture cap --no-stderr\n",
    "print(f\"banks_dropped {drop_ent}\")"
   ]
  },
  {
   "cell_type": "code",
   "execution_count": 5,
   "metadata": {},
   "outputs": [],
   "source": [
    "%%capture cap --no-stderr\n",
    "with open('output/output.txt', 'w') as f:\n",
    "    f.write(str(cap))"
   ]
  },
  {
   "cell_type": "code",
   "execution_count": 6,
   "metadata": {},
   "outputs": [
    {
     "name": "stdout",
     "output_type": "stream",
     "text": [
      "['serv_rev_tot_inc' 'net_int_inc_tot_income' 'exp_dep_cap_loans']\n"
     ]
    }
   ],
   "source": [
    "with open(\"data/kpi.json\", \"r\") as kpi_json:\n",
    "    kpi_list = json.load(kpi_json)\n",
    "# list_kpis = most_important_names\n",
    "data_kpis = pd.read_csv(\"data/kpis.csv\")\n",
    "# drop_ind = list_kpis\n",
    "data_kpis = data_kpis[data_kpis[\"ind\"].isin(key_features)]\n",
    "data_kpis = data_kpis[~data_kpis[\"ent\"].isin(drop_ent)]\n",
    "kpis = data_kpis[data_kpis[\"ind\"].isin(key_features)][\"ind\"].unique()\n",
    "print(kpis)"
   ]
  },
  {
   "cell_type": "code",
   "execution_count": 7,
   "metadata": {},
   "outputs": [],
   "source": [
    "%%capture cap --no-stderr\n",
    "print(f\"using_kpis {kpis}\")"
   ]
  },
  {
   "cell_type": "code",
   "execution_count": 8,
   "metadata": {},
   "outputs": [],
   "source": [
    "%%capture cap --no-stderr\n",
    "with open('output/output.txt', 'a') as f:\n",
    "    f.write(str(cap))"
   ]
  },
  {
   "cell_type": "code",
   "execution_count": 9,
   "metadata": {},
   "outputs": [],
   "source": [
    "%%capture cap --no-stderr\n",
    "start = 2008\n",
    "end = 2018\n",
    "data = transform_functions.get_mean_pivot_table(data_kpis, 0, 2, 1, 3, start, end)\n",
    "df_corr, data = benchmarks.find_and_drop_correlated_features(data, labels_col=\"ent\", threshold=0.7, drop=True, plot=True)\n",
    "scaler_range = range(1,6)\n",
    "outlier_algorithm_range = range(1,6)\n",
    "for s in scaler_range:\n",
    "    for o in outlier_algorithm_range:\n",
    "        drop = True\n",
    "        # df = benchmarks.drop_outliers(data=data, labels_col=\"ent\", scaler=s, algorithm=o, drop=drop).reset_index()\n",
    "        # df = df.drop(columns=\"index\")\n",
    "        init_list = [\"random\", \"k-means++\"]\n",
    "        algorithm_list = [\"lloyd\", \"elkan\"]\n",
    "        params = {\n",
    "            'algorithm': algorithm_list[1], \n",
    "            'init': init_list[1], \n",
    "            'max_iter': 1000, \n",
    "            'n_clusters': 50, \n",
    "            'n_init': 10, \n",
    "            'random_state': None, \n",
    "            'tol': 0.0001, \n",
    "            'verbose': 0\n",
    "        }\n",
    "        df_scores = benchmarks.optimal_k(data, labels_col=\"ent\", model=\"kmeans\", params=params, max_k=2, min_k=2, scaler=s, threshold=0.8, drop=drop, algorithm=o, plot=True, min_max_items=[2, 20])"
   ]
  },
  {
   "cell_type": "code",
   "execution_count": 10,
   "metadata": {},
   "outputs": [],
   "source": [
    "%%capture cap --no-stderr\n",
    "with open('output/output.txt', 'a') as f:\n",
    "    f.write(str(cap))"
   ]
  },
  {
   "cell_type": "code",
   "execution_count": 11,
   "metadata": {},
   "outputs": [],
   "source": [
    "%%capture cap --no-stderr\n",
    "start = 2008\n",
    "end = 2018\n",
    "data = transform_functions.get_mean_pivot_table(data_kpis, 0, 2, 1, 3, start, end)\n",
    "df_corr, data = benchmarks.find_and_drop_correlated_features(data, labels_col=\"ent\", threshold=0.7, drop=True, plot=True)\n",
    "scaler_range = range(1,6)\n",
    "outlier_algorithm_range = range(1,6)\n",
    "for s in scaler_range:\n",
    "    for o in outlier_algorithm_range:\n",
    "        drop = True\n",
    "        # df = benchmarks.drop_outliers(data=data, labels_col=\"ent\", scaler=s, algorithm=o, drop=drop).reset_index()\n",
    "        # df = df.drop(columns=\"index\")\n",
    "        init_list = [\"random\", \"k-means++\"]\n",
    "        algorithm_list = [\"lloyd\", \"elkan\"]\n",
    "        params = {\n",
    "            'batch_size': 1024,\n",
    "            'compute_labels': True,\n",
    "            'init': init_list[0],\n",
    "            'init_size': None,\n",
    "            'max_iter': 10000,\n",
    "            'max_no_improvement': 10,\n",
    "            'n_clusters': 8,\n",
    "            'n_init': 10,\n",
    "            'random_state': None,\n",
    "            'reassignment_ratio': 0.01,\n",
    "            'tol': 0.0,\n",
    "            'verbose': 0\n",
    "        }\n",
    "        df_scores = benchmarks.optimal_k(data, labels_col=\"ent\", model=\"minibatch_kmeans\", params=params, max_k=2, min_k=2, scaler=s, threshold=0.8, drop=drop, algorithm=o, plot=True, min_max_items=[2, 20])"
   ]
  },
  {
   "cell_type": "code",
   "execution_count": 12,
   "metadata": {},
   "outputs": [],
   "source": [
    "%%capture cap --no-stderr\n",
    "with open('output/output.txt', 'a') as f:\n",
    "    f.write(str(cap))"
   ]
  },
  {
   "cell_type": "code",
   "execution_count": 13,
   "metadata": {},
   "outputs": [],
   "source": [
    "%%capture cap --no-stderr\n",
    "start = 2008\n",
    "end = 2018\n",
    "data = transform_functions.get_mean_pivot_table(data_kpis, 0, 2, 1, 3, start, end)\n",
    "df_corr, data = benchmarks.find_and_drop_correlated_features(data, labels_col=\"ent\", threshold=0.7, drop=True, plot=True)\n",
    "scaler_range = range(1,6)\n",
    "outlier_algorithm_range = range(1,6)\n",
    "for s in scaler_range:\n",
    "    for o in outlier_algorithm_range:\n",
    "        drop = True\n",
    "        # df = benchmarks.drop_outliers(data=data, labels_col=\"ent\", scaler=s, algorithm=o, drop=drop).reset_index()\n",
    "        # df = df.drop(columns=\"index\")\n",
    "        init_list = [\"random\", \"heuristic\", \"k-medoids++\", \"build\"]\n",
    "        method_list = [\"alternate\", \"pam\"]\n",
    "        params = {\n",
    "            'init': init_list[2],\n",
    "            'max_iter': 1000,\n",
    "            'method': method_list[1],\n",
    "            'metric': 'euclidean',\n",
    "            'n_clusters': 8,\n",
    "            'random_state': None\n",
    "        }\n",
    "        df_scores = benchmarks.optimal_k(data, labels_col=\"ent\", model=\"kmedoids\", params=params, max_k=2, min_k=2, scaler=s, threshold=0.8, drop=drop, algorithm=o, plot=True, min_max_items=[2, 20])"
   ]
  },
  {
   "cell_type": "code",
   "execution_count": 14,
   "metadata": {},
   "outputs": [],
   "source": [
    "%%capture cap --no-stderr\n",
    "with open('output/output.txt', 'a') as f:\n",
    "    f.write(str(cap))"
   ]
  },
  {
   "cell_type": "code",
   "execution_count": 15,
   "metadata": {},
   "outputs": [
    {
     "ename": "NameError",
     "evalue": "name 'a' is not defined",
     "output_type": "error",
     "traceback": [
      "\u001b[1;31m---------------------------------------------------------------------------\u001b[0m",
      "\u001b[1;31mNameError\u001b[0m                                 Traceback (most recent call last)",
      "\u001b[1;32mc:\\Users\\MEC\\cbbm\\cbbm\\cluster_analysis.ipynb Cell 15\u001b[0m in \u001b[0;36m<cell line: 1>\u001b[1;34m()\u001b[0m\n\u001b[1;32m----> <a href='vscode-notebook-cell:/c%3A/Users/MEC/cbbm/cbbm/cluster_analysis.ipynb#X20sZmlsZQ%3D%3D?line=0'>1</a>\u001b[0m \u001b[39mprint\u001b[39m[a]\n",
      "\u001b[1;31mNameError\u001b[0m: name 'a' is not defined"
     ]
    }
   ],
   "source": [
    "print[a]"
   ]
  },
  {
   "cell_type": "code",
   "execution_count": null,
   "metadata": {},
   "outputs": [],
   "source": [
    "df_describe = data.iloc[:,1:].describe() # .to_excel(writer, sheet_name=f\"describe_{s}\")\n",
    "fig, ax = plt.subplots()\n",
    "ax.boxplot(data[data.columns[1:]], vert=False, showmeans=True, meanline=True,\n",
    "        labels=data.columns[1:], patch_artist=True,\n",
    "        medianprops={'linewidth': 2, 'color': 'purple'},\n",
    "        meanprops={'linewidth': 2, 'color': 'red'})\n",
    "plt.title(f\"Boxplot --- Data not scaled\")\n",
    "#display(df_describe)"
   ]
  },
  {
   "cell_type": "code",
   "execution_count": null,
   "metadata": {},
   "outputs": [],
   "source": [
    "%%capture cap --no-stderr\n",
    "print(\"describe_not_scaled\")\n",
    "print(df_describe)"
   ]
  },
  {
   "cell_type": "code",
   "execution_count": null,
   "metadata": {},
   "outputs": [],
   "source": [
    "%%capture cap --no-stderr\n",
    "with open('output/output.txt', 'a') as f:\n",
    "    f.write(str(cap))"
   ]
  },
  {
   "cell_type": "code",
   "execution_count": null,
   "metadata": {},
   "outputs": [],
   "source": [
    "%%capture cap --no-stderr\n",
    "df = benchmarks.drop_outliers(data=data, labels_col=\"ent\", scaler=scaler, algorithm=algorithm, drop=drop).reset_index()\n",
    "df = df.drop(columns=\"index\")"
   ]
  },
  {
   "cell_type": "code",
   "execution_count": null,
   "metadata": {},
   "outputs": [],
   "source": [
    "%%capture cap --no-stderr\n",
    "with open('output/output.txt', 'a') as f:\n",
    "    f.write(str(cap))"
   ]
  },
  {
   "cell_type": "code",
   "execution_count": null,
   "metadata": {},
   "outputs": [],
   "source": [
    "df_describe = df.iloc[:,1:].describe() # .to_excel(writer, sheet_name=f\"describe_{s}\")\n",
    "fig, ax = plt.subplots()\n",
    "ax.boxplot(df[data.columns[1:]], vert=False, showmeans=True, meanline=True,\n",
    "        labels=df.columns[1:], patch_artist=True,\n",
    "        medianprops={'linewidth': 2, 'color': 'purple'},\n",
    "        meanprops={'linewidth': 2, 'color': 'red'})\n",
    "plt.title(f\"Boxplot --- Data scaled\")\n",
    "#display(df_describe)"
   ]
  },
  {
   "cell_type": "code",
   "execution_count": null,
   "metadata": {},
   "outputs": [],
   "source": [
    "%%capture cap --no-stderr\n",
    "print(\"describe_scaled\")\n",
    "print(df_describe)"
   ]
  },
  {
   "cell_type": "code",
   "execution_count": null,
   "metadata": {},
   "outputs": [],
   "source": [
    "%%capture cap --no-stderr\n",
    "with open('output/output.txt', 'a') as f:\n",
    "    f.write(str(cap))"
   ]
  },
  {
   "cell_type": "code",
   "execution_count": null,
   "metadata": {},
   "outputs": [],
   "source": [
    "# df = data\n",
    "(n_sample, n_features), n_digits = df.shape, 5\n",
    "print(f\"digits: {n_digits}, samples: {n_sample}, features: {n_features}\")"
   ]
  },
  {
   "cell_type": "code",
   "execution_count": null,
   "metadata": {},
   "outputs": [],
   "source": [
    "elbow_centers = PCA(n_components=2).fit_transform(df_elbow_centers)\n",
    "df_elbow_centers = pd.DataFrame(elbow_centers, index=range(elbow_centers.shape[0]))\n",
    "silhouette_centers = PCA(n_components=2).fit_transform(df_silhouette_centers)\n",
    "df_silhouette_centers = pd.DataFrame(silhouette_centers, index=range(silhouette_centers.shape[0]))\n",
    "df_pca = PCA(n_components=2).fit_transform(df.iloc[:,1:])\n",
    "df_pca = pd.DataFrame(df_pca, columns=[\"pca1\", \"pca2\"])\n",
    "df_pca = pd.concat([df, df_pca], axis=1).iloc[:,[0,-2,-1]]"
   ]
  },
  {
   "cell_type": "code",
   "execution_count": null,
   "metadata": {},
   "outputs": [],
   "source": [
    "%%capture cap --no-stderr\n",
    "print(df_scores)\n",
    "print(\"k_pred_elbow\")\n",
    "print(df_pred_elbow[[\"ent\", \"k_pred\"]].sort_values(by=[\"k_pred\", \"ent\"]))\n",
    "print(\"k_pred_silhouette\")\n",
    "print(df_pred_silhouette[[\"ent\", \"k_pred\"]].sort_values(by=[\"k_pred\", \"ent\"]))\n",
    "print(\"elbow_centers\")\n",
    "print(df_elbow_centers)\n",
    "print(\"silhouette_centers\")\n",
    "print(df_silhouette_centers)\n",
    "print(\"df_pca\")\n",
    "print(df_pca)"
   ]
  },
  {
   "cell_type": "code",
   "execution_count": null,
   "metadata": {},
   "outputs": [],
   "source": [
    "%%capture cap --no-stderr\n",
    "with open('output/output.txt', 'a') as f:\n",
    "    f.write(str(cap))"
   ]
  }
 ],
 "metadata": {
  "kernelspec": {
   "display_name": "Python 3.10.5 ('cbbm-RQGQLPr7-py3.10')",
   "language": "python",
   "name": "python3"
  },
  "language_info": {
   "codemirror_mode": {
    "name": "ipython",
    "version": 3
   },
   "file_extension": ".py",
   "mimetype": "text/x-python",
   "name": "python",
   "nbconvert_exporter": "python",
   "pygments_lexer": "ipython3",
   "version": "3.10.5"
  },
  "orig_nbformat": 4,
  "vscode": {
   "interpreter": {
    "hash": "0bd4a477d0876910250915e3e9f7d6b6cb97ff716c94d5f9b489478001bf4dca"
   }
  }
 },
 "nbformat": 4,
 "nbformat_minor": 2
}
