{
 "cells": [
  {
   "cell_type": "code",
   "execution_count": null,
   "metadata": {},
   "outputs": [],
   "source": []
  }
 ],
 "metadata": {
  "kernelspec": {
   "display_name": "Python 3.10.5 ('cbbm-RQGQLPr7-py3.10')",
   "language": "python",
   "name": "python3"
  },
  "language_info": {
   "name": "python",
   "version": "3.10.5"
  },
  "orig_nbformat": 4,
  "vscode": {
   "interpreter": {
    "hash": "0bd4a477d0876910250915e3e9f7d6b6cb97ff716c94d5f9b489478001bf4dca"
   }
  }
 },
 "nbformat": 4,
 "nbformat_minor": 2
}
