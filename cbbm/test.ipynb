{
 "cells": [
  {
   "cell_type": "code",
   "execution_count": 5,
   "metadata": {},
   "outputs": [
    {
     "name": "stdout",
     "output_type": "stream",
     "text": [
      "3\n",
      "2\n",
      "1\n",
      "[3, 1, 1, 1, 1, 1]\n",
      "yes\n",
      "         name\n",
      "sravan      3\n",
      "ojsawi      1\n",
      "bobby       1\n",
      "rohith      1\n",
      "gnanesh     1\n",
      "ojaswi      1\n"
     ]
    },
    {
     "data": {
      "text/plain": [
       "'    print(\"yes\")\\nelse:\\n    print(\"no\")'"
      ]
     },
     "execution_count": 5,
     "metadata": {},
     "output_type": "execute_result"
    }
   ],
   "source": [
    "# import pandas module\n",
    "import pandas as pd\n",
    " \n",
    "# create a dataframe\n",
    "# with 5 rows and 4 columns\n",
    "data = pd.DataFrame({\n",
    "    'name': ['sravan', 'ojsawi', 'bobby',  'rohith',\n",
    "             'gnanesh', 'sravan', 'sravan', 'ojaswi'],\n",
    "    'subjects': ['java', 'php', 'java', 'php', 'java',\n",
    "                 'html/css', 'python', 'R'],\n",
    "    'marks': [98, 90, 78, 91, 87, 78, 89, 90],\n",
    "    'age': [11, 23, 23, 21, 21, 21, 23, 21]\n",
    "})\n",
    " \n",
    "# count values in name column\n",
    "print(data['name'].value_counts()['sravan'])\n",
    " \n",
    "# count values in subjects column\n",
    "print(data['subjects'].value_counts()['php'])\n",
    " \n",
    "# count values in marks column\n",
    "print(data['marks'].value_counts()[89])\n",
    "\n",
    "print([c for c in data['name'].value_counts()])\n",
    "\n",
    "if any([n for n in data['name'].value_counts().to_frame()[\"name\"] if int(n) > 1]):\n",
    "    print(\"yes\")\n",
    "else:\n",
    "    print(\"no\")\n",
    "\n",
    "print(data['name'].value_counts().to_frame()) #loc[lambda x: x<4])\n",
    "\n",
    "'''    print(\"yes\")\n",
    "else:\n",
    "    print(\"no\")'''"
   ]
  },
  {
   "cell_type": "code",
   "execution_count": 17,
   "metadata": {},
   "outputs": [
    {
     "name": "stdout",
     "output_type": "stream",
     "text": [
      "['gh']\n",
      "False\n"
     ]
    }
   ],
   "source": [
    "ent = [c for c in range(0,10)]\n",
    "gh = [1,2,3,4,3,2,3,2,2,3]\n",
    "ghs = pd.DataFrame({\"ent\":ent, \"gh\":gh})\n",
    "ghs_vc = ghs[\"gh\"].value_counts().to_frame()\n",
    "print([i for i in ghs_vc.columns])\n",
    "print(any([gh for gh in ghs.value_counts().to_frame().iloc[:,-1] if int(gh) > 1]))"
   ]
  }
 ],
 "metadata": {
  "kernelspec": {
   "display_name": "cbbm-RQGQLPr7-py3.10",
   "language": "python",
   "name": "python3"
  },
  "language_info": {
   "codemirror_mode": {
    "name": "ipython",
    "version": 3
   },
   "file_extension": ".py",
   "mimetype": "text/x-python",
   "name": "python",
   "nbconvert_exporter": "python",
   "pygments_lexer": "ipython3",
   "version": "3.10.5"
  },
  "orig_nbformat": 4,
  "vscode": {
   "interpreter": {
    "hash": "0bd4a477d0876910250915e3e9f7d6b6cb97ff716c94d5f9b489478001bf4dca"
   }
  }
 },
 "nbformat": 4,
 "nbformat_minor": 2
}
